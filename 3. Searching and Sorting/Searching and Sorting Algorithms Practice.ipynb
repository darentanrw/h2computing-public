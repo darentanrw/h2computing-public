{
 "cells": [
  {
   "cell_type": "markdown",
   "metadata": {},
   "source": [
    "# Searching Algos"
   ]
  },
  {
   "cell_type": "code",
   "execution_count": 10,
   "metadata": {
    "ExecuteTime": {
     "end_time": "2021-11-13T04:56:23.452025Z",
     "start_time": "2021-11-13T04:56:23.443878Z"
    }
   },
   "outputs": [],
   "source": [
    "numberList = [6, 172, 331, 363, 497, 525, 552, 611, 723, 949]\n",
    "key = 611\n",
    "fake = 412"
   ]
  },
  {
   "cell_type": "markdown",
   "metadata": {},
   "source": [
    "## Linear Search"
   ]
  },
  {
   "cell_type": "code",
   "execution_count": 11,
   "metadata": {
    "ExecuteTime": {
     "end_time": "2021-11-13T04:56:24.822426Z",
     "start_time": "2021-11-13T04:56:24.809358Z"
    }
   },
   "outputs": [
    {
     "name": "stdout",
     "output_type": "stream",
     "text": [
      "Found, 7\n",
      "Not Found\n"
     ]
    }
   ],
   "source": [
    "def linearSearch(numberList, key):\n",
    "    for i in range(len(numberList)):\n",
    "        if numberList[i] == key:\n",
    "            return f'Found, {i}'\n",
    "    else:\n",
    "        return 'Not Found'\n",
    "    \n",
    "print(linearSearch(numberList,  key))\n",
    "print(linearSearch(numberList, fake))"
   ]
  },
  {
   "cell_type": "markdown",
   "metadata": {},
   "source": [
    "## Binary Search"
   ]
  },
  {
   "cell_type": "code",
   "execution_count": 14,
   "metadata": {
    "ExecuteTime": {
     "end_time": "2021-11-13T04:57:10.852652Z",
     "start_time": "2021-11-13T04:57:10.843365Z"
    }
   },
   "outputs": [
    {
     "name": "stdout",
     "output_type": "stream",
     "text": [
      "found\n",
      "not found\n"
     ]
    }
   ],
   "source": [
    "def binarySearch(numberList, key):\n",
    "    low = 0\n",
    "    high = len(numberList)-1\n",
    "    \n",
    "    while low < high:\n",
    "        mid = (low+high)//2\n",
    "        if numberList[mid] == key:\n",
    "            return 'found'\n",
    "        elif numberList[mid] > key:\n",
    "            high = mid-1\n",
    "        else:\n",
    "            low = mid+1\n",
    "    else:\n",
    "        return 'not found'\n",
    "    \n",
    "    \n",
    "print(binarySearch(numberList, key))\n",
    "print(binarySearch(numberList, fake))"
   ]
  },
  {
   "cell_type": "code",
   "execution_count": 20,
   "metadata": {
    "ExecuteTime": {
     "end_time": "2021-11-12T09:24:22.665540Z",
     "start_time": "2021-11-12T09:24:22.644483Z"
    }
   },
   "outputs": [
    {
     "name": "stdout",
     "output_type": "stream",
     "text": [
      "Found\n",
      "Not Found\n"
     ]
    }
   ],
   "source": [
    "def binarySearch(numberList, key):\n",
    "    return binarySearchRecursive(numberList, key, 0, len(numberList)-1)\n",
    "\n",
    "def binarySearchRecursive(numberList, key, low, high):\n",
    "    if low > high:\n",
    "        return 'Not Found'\n",
    "    else:\n",
    "        mid = (low + high) // 2\n",
    "        if numberList[mid] == key:\n",
    "            return 'Found'\n",
    "        elif numberList[mid] > key:\n",
    "            return binarySearchRecursive(numberList, key, low, mid-1)\n",
    "        elif numberList[mid] < key:\n",
    "            return binarySearchRecursive(numberList, key, mid+1, high)\n",
    "        \n",
    "        \n",
    "print(binarySearch(numberList, key))\n",
    "print(binarySearch(numberList, fake))"
   ]
  },
  {
   "cell_type": "markdown",
   "metadata": {},
   "source": [
    "## Hash Table Searching"
   ]
  },
  {
   "cell_type": "code",
   "execution_count": 17,
   "metadata": {
    "ExecuteTime": {
     "end_time": "2021-10-05T08:59:07.933242Z",
     "start_time": "2021-10-05T08:59:07.918243Z"
    }
   },
   "outputs": [
    {
     "ename": "NameError",
     "evalue": "name 'hashList' is not defined",
     "output_type": "error",
     "traceback": [
      "\u001b[1;31m---------------------------------------------------------------------------\u001b[0m",
      "\u001b[1;31mNameError\u001b[0m                                 Traceback (most recent call last)",
      "\u001b[1;32m<ipython-input-17-abc720b588bc>\u001b[0m in \u001b[0;36m<module>\u001b[1;34m\u001b[0m\n\u001b[0;32m     12\u001b[0m     \u001b[1;32mreturn\u001b[0m \u001b[1;33m(\u001b[0m\u001b[0mhashList\u001b[0m\u001b[1;33m)\u001b[0m\u001b[1;33m\u001b[0m\u001b[1;33m\u001b[0m\u001b[0m\n\u001b[0;32m     13\u001b[0m \u001b[1;33m\u001b[0m\u001b[0m\n\u001b[1;32m---> 14\u001b[1;33m \u001b[0mprint\u001b[0m\u001b[1;33m(\u001b[0m\u001b[0mhashTableLinearProbing\u001b[0m\u001b[1;33m(\u001b[0m\u001b[0mnumberList\u001b[0m\u001b[1;33m)\u001b[0m\u001b[1;33m)\u001b[0m\u001b[1;33m\u001b[0m\u001b[1;33m\u001b[0m\u001b[0m\n\u001b[0m",
      "\u001b[1;32m<ipython-input-17-abc720b588bc>\u001b[0m in \u001b[0;36mhashTableLinearProbing\u001b[1;34m(numberList)\u001b[0m\n\u001b[0;32m     10\u001b[0m \u001b[1;32mdef\u001b[0m \u001b[0mhashTableLinearProbing\u001b[0m\u001b[1;33m(\u001b[0m\u001b[0mnumberList\u001b[0m\u001b[1;33m)\u001b[0m\u001b[1;33m:\u001b[0m\u001b[1;33m\u001b[0m\u001b[1;33m\u001b[0m\u001b[0m\n\u001b[0;32m     11\u001b[0m \u001b[1;33m\u001b[0m\u001b[0m\n\u001b[1;32m---> 12\u001b[1;33m     \u001b[1;32mreturn\u001b[0m \u001b[1;33m(\u001b[0m\u001b[0mhashList\u001b[0m\u001b[1;33m)\u001b[0m\u001b[1;33m\u001b[0m\u001b[1;33m\u001b[0m\u001b[0m\n\u001b[0m\u001b[0;32m     13\u001b[0m \u001b[1;33m\u001b[0m\u001b[0m\n\u001b[0;32m     14\u001b[0m \u001b[0mprint\u001b[0m\u001b[1;33m(\u001b[0m\u001b[0mhashTableLinearProbing\u001b[0m\u001b[1;33m(\u001b[0m\u001b[0mnumberList\u001b[0m\u001b[1;33m)\u001b[0m\u001b[1;33m)\u001b[0m\u001b[1;33m\u001b[0m\u001b[1;33m\u001b[0m\u001b[0m\n",
      "\u001b[1;31mNameError\u001b[0m: name 'hashList' is not defined"
     ]
    }
   ],
   "source": [
    "def returnHash(key): # lets let this hash be hash of 11\n",
    "    return (key % 11)\n",
    "\n",
    "def hashTableChaining(numberList): \n",
    "    hashList = [['Null'] for i in numberList]\n",
    "    for i in numberList:\n",
    "        hashValue = returnHash(i)\n",
    "        hashList[hashValue] = [i] + hashList[hashValue] \n",
    "\n",
    "def hashTableLinearProbing(numberList):\n",
    "   \n",
    "    return (hashList)\n",
    "    \n",
    "print(hashTableLinearProbing(numberList))"
   ]
  },
  {
   "cell_type": "markdown",
   "metadata": {},
   "source": [
    "# Sorting Algos"
   ]
  },
  {
   "cell_type": "markdown",
   "metadata": {},
   "source": [
    "## Bubble Sort"
   ]
  },
  {
   "cell_type": "code",
   "execution_count": 12,
   "metadata": {
    "ExecuteTime": {
     "end_time": "2021-11-15T04:31:58.644581Z",
     "start_time": "2021-11-15T04:31:58.633583Z"
    }
   },
   "outputs": [
    {
     "name": "stdout",
     "output_type": "stream",
     "text": [
      "[212, 276, 142, 231, 138, 983, 42, 946, 884, 173]\n",
      "[42, 138, 142, 173, 212, 231, 276, 884, 946, 983]\n"
     ]
    },
    {
     "data": {
      "text/plain": [
       "True"
      ]
     },
     "execution_count": 12,
     "metadata": {},
     "output_type": "execute_result"
    }
   ],
   "source": [
    "from random import randint\n",
    "unsorted = [randint(0,1000) for i in range(10)]\n",
    "print(unsorted)\n",
    "\n",
    "def bubbleSort(Array):\n",
    "    lastSorted = len(Array)-1\n",
    "    while lastSorted >0:\n",
    "        for i in range(lastSorted):\n",
    "            lastExchange = 0\n",
    "            if Array[i] > Array[i+1]:\n",
    "                temp = Array[i+1]\n",
    "                Array[i+1] = Array[i]\n",
    "                Array[i] = temp\n",
    "                lastExchange = i \n",
    "        lastSorted = lastExchange\n",
    "    return Array\n",
    "    \n",
    "print(bubbleSort(unsorted))\n",
    "sortedList = sorted(unsorted)\n",
    "unsorted == sortedList"
   ]
  },
  {
   "cell_type": "markdown",
   "metadata": {},
   "source": [
    "## Insertion Sort\n",
    "\n",
    "not too sure about this, need to practice this shit"
   ]
  },
  {
   "cell_type": "code",
   "execution_count": 13,
   "metadata": {
    "ExecuteTime": {
     "end_time": "2021-11-15T04:33:23.357598Z",
     "start_time": "2021-11-15T04:33:23.346601Z"
    }
   },
   "outputs": [
    {
     "name": "stdout",
     "output_type": "stream",
     "text": [
      "[136, 677, 526, 294, 852, 254, 152, 929, 370, 813]\n",
      "[136, 152, 254, 294, 370, 526, 677, 813, 852, 929]\n"
     ]
    },
    {
     "data": {
      "text/plain": [
       "True"
      ]
     },
     "execution_count": 13,
     "metadata": {},
     "output_type": "execute_result"
    }
   ],
   "source": [
    "from random import randint\n",
    "unsorted = [randint(0,1000) for i in range(10)]\n",
    "print(unsorted)\n",
    "\n",
    "def insertionSort(unsorted):\n",
    "    for i in range(len(unsorted)):\n",
    "        comparison = i\n",
    "        swapItem = unsorted[i]\n",
    "        while comparison > 0 and unsorted[comparison-1] > swapItem:\n",
    "            unsorted[comparison] = unsorted[comparison-1]\n",
    "            comparison -=1\n",
    "        unsorted[comparison] = swapItem\n",
    "    return unsorted\n",
    "\n",
    "    \n",
    "print(insertionSort(unsorted))\n",
    "sortedList = sorted(unsorted)\n",
    "unsorted == sortedList"
   ]
  },
  {
   "cell_type": "markdown",
   "metadata": {},
   "source": [
    "## MergeSort"
   ]
  },
  {
   "cell_type": "code",
   "execution_count": 1,
   "metadata": {
    "ExecuteTime": {
     "end_time": "2021-11-15T03:41:18.944201Z",
     "start_time": "2021-11-15T03:41:18.929086Z"
    }
   },
   "outputs": [
    {
     "name": "stdout",
     "output_type": "stream",
     "text": [
      "[85, 911, 551, 970, 870, 609, 175, 448, 805, 195]\n",
      "[85, 175, 195, 448, 551, 609, 805, 870, 911, 970]\n"
     ]
    },
    {
     "data": {
      "text/plain": [
       "True"
      ]
     },
     "execution_count": 1,
     "metadata": {},
     "output_type": "execute_result"
    }
   ],
   "source": [
    "from random import randint\n",
    "unsorted = [randint(0,1000) for i in range(10)]\n",
    "print(unsorted)\n",
    "\n",
    "def mergeSort(Array):\n",
    "    if len(Array) > 1:\n",
    "        mid = len(Array)//2\n",
    "        left = mergeSort(Array[:mid])\n",
    "        right = mergeSort(Array[mid:])\n",
    "        \n",
    "        Array = []\n",
    "        \n",
    "        while len(left) > 0 and len(right) > 0:\n",
    "            if left[0] < right[0]:\n",
    "                Array.append(left.pop(0))\n",
    "            else:\n",
    "                Array.append(right.pop(0))\n",
    "        Array += left + right\n",
    "        \n",
    "    return Array\n",
    "    \n",
    "print(mergeSort(unsorted))\n",
    "sortedList = sorted(unsorted)\n",
    "mergeSort(unsorted) == sortedList"
   ]
  },
  {
   "cell_type": "markdown",
   "metadata": {},
   "source": [
    "## QuickSort"
   ]
  },
  {
   "cell_type": "code",
   "execution_count": 7,
   "metadata": {
    "ExecuteTime": {
     "end_time": "2021-11-15T03:44:29.772690Z",
     "start_time": "2021-11-15T03:44:29.752691Z"
    }
   },
   "outputs": [
    {
     "name": "stdout",
     "output_type": "stream",
     "text": [
      "[5, 75, 59, 66, 5, 2, 22, 51, 16, 56]\n",
      "[2, 5, 5, 16, 22, 51, 56, 59, 66, 75]\n"
     ]
    },
    {
     "data": {
      "text/plain": [
       "True"
      ]
     },
     "execution_count": 7,
     "metadata": {},
     "output_type": "execute_result"
    }
   ],
   "source": [
    "from random import randint\n",
    "unsorted = [randint(0,100) for i in range(10)]\n",
    "print(unsorted)\n",
    "\n",
    "def split(Array, low, high):\n",
    "    mid = (low+high)//2\n",
    "    pivot = Array[mid]\n",
    "    \n",
    "    Array[low], Array[mid] = Array[mid], Array[low]\n",
    "    \n",
    "    left = low+1\n",
    "    right = high\n",
    "    \n",
    "    while left <= right:\n",
    "        while left <= right and Array[left] <= pivot:\n",
    "            left += 1\n",
    "        while Array[right] > pivot:\n",
    "            right -= 1\n",
    "        if left < right:\n",
    "            Array[left], Array[right] = Array[right], Array[left]\n",
    "    \n",
    "    Array[right], Array[low] = Array[low], Array[right]\n",
    "    return right\n",
    "\n",
    "def quickSort(Array, low, high):\n",
    "    if low<high:\n",
    "        pivot = split(Array, low, high)\n",
    "        Array = quickSort(Array, low, pivot-1)\n",
    "        Array = quickSort(Array, pivot+1, high)\n",
    "    return Array\n",
    "\n",
    "\n",
    "sortedList = quickSort(unsorted, 0, len(unsorted) -1)\n",
    "print(sortedList)\n",
    "sortedList = sorted(unsorted)\n",
    "unsorted == sortedList"
   ]
  }
 ],
 "metadata": {
  "interpreter": {
   "hash": "1dd617a5988bcaa54672a91eb3971f0ca666e7ecabec86dd1533bd53f184404c"
  },
  "kernelspec": {
   "display_name": "Python 3",
   "language": "python",
   "name": "python3"
  },
  "language_info": {
   "codemirror_mode": {
    "name": "ipython",
    "version": 3
   },
   "file_extension": ".py",
   "mimetype": "text/x-python",
   "name": "python",
   "nbconvert_exporter": "python",
   "pygments_lexer": "ipython3",
   "version": "3.9.1"
  },
  "toc": {
   "base_numbering": 1,
   "nav_menu": {},
   "number_sections": true,
   "sideBar": true,
   "skip_h1_title": false,
   "title_cell": "Table of Contents",
   "title_sidebar": "Contents",
   "toc_cell": false,
   "toc_position": {},
   "toc_section_display": true,
   "toc_window_display": false
  }
 },
 "nbformat": 4,
 "nbformat_minor": 4
}
