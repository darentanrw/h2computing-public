{
 "cells": [
  {
   "cell_type": "markdown",
   "metadata": {},
   "source": [
    "# Searching and Sorting Algorithms\n",
    "\n",
    "## Searching Algorithms: \n",
    "1. Linear / Sequential Search\n",
    "2. Binary Search \n",
    "3. Hash Table Search \n",
    "   \n",
    "## Sorting Algorithms: \n",
    "1. Bubble Sort\n",
    "2. Insertion Sort\n",
    "3. Merge Sort\n",
    "4. QuickSort"
   ]
  },
  {
   "cell_type": "code",
   "execution_count": 2,
   "metadata": {},
   "outputs": [],
   "source": [
    "numberList = [6, 172, 331, 363, 497, 525, 552, 611, 723, 949]\n",
    "key = 611\n",
    "fake = 412"
   ]
  },
  {
   "cell_type": "markdown",
   "metadata": {},
   "source": [
    "# Linear Search"
   ]
  },
  {
   "cell_type": "code",
   "execution_count": 2,
   "metadata": {},
   "outputs": [
    {
     "name": "stdout",
     "output_type": "stream",
     "text": [
      "Found\n",
      "Not Found\n"
     ]
    }
   ],
   "source": [
    "def linearSearch(numberList, key):\n",
    "    start = 0\n",
    "    end = len(numberList) - 1\n",
    "    for i in numberList:\n",
    "        if start == end:\n",
    "            print('Not Found')\n",
    "        elif i == key:\n",
    "            print(\"Found\")\n",
    "            return(i)\n",
    "        else:\n",
    "            start += 1\n",
    "\n",
    "linearSearch(numberList, key)\n",
    "linearSearch(numberList, fake)"
   ]
  },
  {
   "cell_type": "markdown",
   "metadata": {},
   "source": [
    "# Binary Search\n",
    "Binary Search operates on the basis that the list is already sorted, and it essentially guesses higher lower until it can get the correct value if not it quits"
   ]
  },
  {
   "cell_type": "markdown",
   "metadata": {},
   "source": [
    "### Iterative Version"
   ]
  },
  {
   "cell_type": "code",
   "execution_count": 3,
   "metadata": {},
   "outputs": [],
   "source": [
    "def binarySearch(numberList, key):\n",
    "    max = len(numberList) -1\n",
    "    min = 0\n",
    "    \n",
    "    while min <= max:\n",
    "        mid = (min + max) // 2\n",
    "        if key == numberList[mid]:\n",
    "            print('found')\n",
    "            break\n",
    "        elif key < numberList[mid]:\n",
    "            max = mid -1\n",
    "        else:\n",
    "            min = mid + 1\n",
    "    else:\n",
    "        print('not found')\n",
    "    "
   ]
  },
  {
   "cell_type": "markdown",
   "metadata": {},
   "source": [
    "### Recursive Version"
   ]
  },
  {
   "cell_type": "code",
   "execution_count": 4,
   "metadata": {},
   "outputs": [
    {
     "name": "stdout",
     "output_type": "stream",
     "text": [
      "Found\n",
      "Not Found\n"
     ]
    }
   ],
   "source": [
    "def binarySearchRecursive(numberList, key):\n",
    "    return binarySearchRecursive2(numberList, key, 0, len(numberList) -1)\n",
    "\n",
    "def binarySearchRecursive2(numberList, key, min, max):\n",
    "    mid = (min + max) // 2\n",
    "    if numberList[mid] == key:\n",
    "        return 'Found'\n",
    "    elif min > max:\n",
    "        return 'Not Found'\n",
    "    else:\n",
    "        if numberList[mid] < key: # when guess is too low\n",
    "            min = mid + 1\n",
    "        else: #numberList[mid] > key, guess is too high\n",
    "            max = mid - 1\n",
    "        return binarySearchRecursive2(numberList, key, min, max)\n",
    "    \n",
    "print(binarySearchRecursive(numberList, key))\n",
    "print(binarySearchRecursive(numberList, fake))"
   ]
  },
  {
   "cell_type": "markdown",
   "metadata": {},
   "source": [
    "## Hash Table Search\n",
    "\n",
    "The location of each item is determined by a hash function of the item itself. This makes hash table search at the designated location of the item and thus less comparisons. \n",
    "\n",
    "There are two main collision strategies - linear probing, as well as chaining"
   ]
  },
  {
   "cell_type": "code",
   "execution_count": 4,
   "metadata": {},
   "outputs": [],
   "source": [
    "def hashValue(value,hashNum):\n",
    "    return value%hashNum"
   ]
  },
  {
   "cell_type": "markdown",
   "metadata": {},
   "source": [
    "### Hash Table with Linear Probing\n",
    "When items have the same hash, the later item is simply just shifted to the next available index. "
   ]
  },
  {
   "cell_type": "code",
   "execution_count": 6,
   "metadata": {},
   "outputs": [
    {
     "name": "stdout",
     "output_type": "stream",
     "text": [
      "[6, 172, 331, 363, 497, 525, 552, 611, 723, 949]\n",
      "[6, 2, 1, 3, 7, 5, 2, 1, 3, 9]\n"
     ]
    },
    {
     "data": {
      "text/plain": [
       "[949, 331, 172, 363, 552, 525, 6, 497, 611, 723]"
      ]
     },
     "execution_count": 6,
     "metadata": {},
     "output_type": "execute_result"
    }
   ],
   "source": [
    "def hashTableLinearProbe(numberList):\n",
    "    hashList = [0 for i in numberList]\n",
    "    for number in numberList:\n",
    "        value = hashValue(number, len(numberList))\n",
    "        if hashList[value] == 0:\n",
    "            hashList[value] = number\n",
    "        else:\n",
    "            while hashList[value] != 0:\n",
    "                value += 1\n",
    "                if value == len(numberList):\n",
    "                    value = 0\n",
    "            hashList[value] = number  \n",
    "    return(hashList)\n",
    "            \n",
    "print(numberList)\n",
    "print([hashValue(i,len(numberList)) for i in numberList])\n",
    "hashTableLinearProbe(numberList)"
   ]
  },
  {
   "cell_type": "markdown",
   "metadata": {},
   "source": [
    "### Hash Table with Chaining\n",
    "Instead of using probing, just have a list of all the values that correspond to each hash"
   ]
  },
  {
   "cell_type": "code",
   "execution_count": 5,
   "metadata": {},
   "outputs": [
    {
     "data": {
      "text/plain": [
       "[['Null'],\n",
       " [611, 331, 'Null'],\n",
       " [552, 172, 'Null'],\n",
       " [723, 363, 'Null'],\n",
       " ['Null'],\n",
       " [525, 'Null'],\n",
       " [6, 'Null'],\n",
       " [497, 'Null'],\n",
       " ['Null'],\n",
       " [949, 'Null']]"
      ]
     },
     "execution_count": 5,
     "metadata": {},
     "output_type": "execute_result"
    }
   ],
   "source": [
    "def hashTableChaining(numberList):\n",
    "    hashList = [['Null'] for i in numberList]\n",
    "    for number in numberList:\n",
    "        value = hashValue(number, len(numberList))\n",
    "        hashList[value] = [number] + hashList[value]\n",
    "    \n",
    "    return(hashList)\n",
    "    \n",
    "hashTableChaining(numberList)"
   ]
  },
  {
   "cell_type": "markdown",
   "metadata": {},
   "source": [
    "# Sorting Algorithms"
   ]
  },
  {
   "cell_type": "markdown",
   "metadata": {},
   "source": [
    "## Bubble Sort\n",
    "Bubble sort works by swapping one item at a time. It compares an item with the next item, and swaps the position of items when the one on the left is higher than that on the right. If the two items in comparison are already sorted, it chooses the higher item and uses that to sort instead. (You can see that with how it sorts the 12, 15, 20)\n",
    "\n",
    "This ensures that with each round, the far right is has increased number of sorted items. (i.e 1st round, highest item would be on far right, 2nd round, the two highest items would be on the right)"
   ]
  },
  {
   "cell_type": "markdown",
   "metadata": {},
   "source": [
    "<img src=\"media/bubbleSortGif.gif\" width=\"500\" align=\"left\">"
   ]
  },
  {
   "cell_type": "code",
   "execution_count": 5,
   "metadata": {
    "ExecuteTime": {
     "end_time": "2021-10-05T03:14:32.212042Z",
     "start_time": "2021-10-05T03:14:32.201030Z"
    }
   },
   "outputs": [
    {
     "data": {
      "text/plain": [
       "[3, 4, 12, 15, 20, 45]"
      ]
     },
     "execution_count": 5,
     "metadata": {},
     "output_type": "execute_result"
    }
   ],
   "source": [
    "unsorted = [45,12,4,15,20,3]\n",
    "unsortedLong = [45,12,4,15,20,3,39,5,9,30]\n",
    "\n",
    "def bubbleSort(unsorted):\n",
    "    lastSorted = len(unsorted) - 1\n",
    "    while lastSorted > 0:\n",
    "        lastExchangeIndex = 0 # Take note: the last exchange index is of each round. Last sorted is the things that are already done\n",
    "        for i in range(lastSorted):\n",
    "            if unsorted[i] > unsorted[i+1]:\n",
    "                unsorted[i], unsorted[i+1] = unsorted[i+1], unsorted[i]\n",
    "                lastExchangeIndex = i \n",
    "            lastSorted = lastExchangeIndex\n",
    "    return unsorted        \n",
    "                \n",
    "bubbleSort(unsorted)"
   ]
  },
  {
   "cell_type": "raw",
   "metadata": {},
   "source": [
    "FUNCTION BUBBLESORT RETURNS ARRAY\n",
    "    LASTSORTED <- LENTH(ARRAY) -1\n",
    "    WHILE LASTSORTED > 0 DO\n",
    "        LASTEXCHANGE <- 0\n",
    "        FOR i 0 TO LASTSORTED DO\n",
    "            IF ARRAY[i] > ARRAY[i+1]\n",
    "                temp <- ARRAY[i+1]\n",
    "                ARRAY[i+1] <- ARRAY[i]\n",
    "                ARRAY[i] <- temp\n",
    "                LASTEXCHANGE <- i\n",
    "            ENDIF\n",
    "        ENDFOR\n",
    "        LASTSORTED <- LASTEXCHANGE\n",
    "    ENDWHILE\n",
    "ENDFUNCTION"
   ]
  },
  {
   "cell_type": "markdown",
   "metadata": {},
   "source": [
    "## Insertion Sort\n",
    "Essentially, everything on the left is sorted. The next item on the right that is unsorted (seen as the red numbers that are brought down) is compared with sorted elements on the left individually, from highest to lowest. This continues until a suitable slot is found to put the item in. "
   ]
  },
  {
   "cell_type": "markdown",
   "metadata": {},
   "source": [
    "<img src=\"media/insertionSortGif.gif\" width=\"500px\" align=\"left\">"
   ]
  },
  {
   "cell_type": "code",
   "execution_count": 1,
   "metadata": {
    "ExecuteTime": {
     "end_time": "2021-10-05T03:14:17.148765Z",
     "start_time": "2021-10-05T03:14:17.117789Z"
    }
   },
   "outputs": [
    {
     "data": {
      "text/plain": [
       "[3, 4, 5, 9, 12, 15, 20, 30, 39, 45]"
      ]
     },
     "execution_count": 1,
     "metadata": {},
     "output_type": "execute_result"
    }
   ],
   "source": [
    "unsorted = [45,12,4,15,20,3]\n",
    "unsortedLong = [45,12,4,15,20,3,39,5,9,30]\n",
    "\n",
    "def insertionSort(unsorted):\n",
    "    for index in range(len(unsorted)): # this gets one element at a time, starting with second element\n",
    "        swapItem = unsorted[index] # holds the item to be swapped separately (visualised as shifting down above)\n",
    "        comparison = index # defines where the comparison starts, it goes downwards from here.\n",
    "        while comparison > 0 and swapItem < unsorted[comparison-1]: # i keep forgetting the -1 here\n",
    "            unsorted[comparison] = unsorted[comparison -1] # visualised as green shifting to the right\n",
    "            comparison -= 1 # visualised as the empty space shifting\n",
    "        unsorted[comparison] = swapItem # visualised as the holding data being put back into main array\n",
    "        \n",
    "    return unsorted\n",
    "    \n",
    "insertionSort(unsortedLong)"
   ]
  },
  {
   "cell_type": "code",
   "execution_count": 2,
   "metadata": {
    "ExecuteTime": {
     "end_time": "2021-10-05T03:14:17.979761Z",
     "start_time": "2021-10-05T03:14:17.965758Z"
    }
   },
   "outputs": [
    {
     "data": {
      "text/plain": [
       "[3, 4, 12, 15, 20, 45]"
      ]
     },
     "execution_count": 2,
     "metadata": {},
     "output_type": "execute_result"
    }
   ],
   "source": [
    "# i actually prefer this version, where i just swap each data but idk if its allowed ? \n",
    "# does not really look the same as animation ..\n",
    "\n",
    "def linearSort(unsorted):\n",
    "    for i in range(len(unsorted)):\n",
    "        comparison = i\n",
    "        swapItem = unsorted[i]\n",
    "        while comparison > 0 and swapItem < unsorted[comparison -1]:\n",
    "            unsorted[comparison], unsorted[comparison-1] = unsorted[comparison-1], unsorted[comparison]\n",
    "            comparison -= 1\n",
    "    return unsorted\n",
    "\n",
    "\n",
    "linearSort(unsorted)"
   ]
  },
  {
   "cell_type": "markdown",
   "metadata": {},
   "source": [
    "## MergeSort\n",
    "\n",
    "Merge sort essentially continues splitting the original array into arrays until they form arrays of size 2. In the example below,  10 items are split into 5/5 then 3/2 each. \n",
    "\n",
    "When the subarray is of size 3 - this gets further split into 1, and 2. **Take note that this differs from the visualisation below.** In the vis, the single item (4) is compared with the first pair (45, 12). In the code below, it is compared with the second pair (15, 20).\n",
    "\n",
    "After the splitting, comparison occurs, in such order: \n",
    "1. Within the 2 element subarray\n",
    "2. Within the 3 element subarray\n",
    "3. Between the 2 and 3 element subarray, forming a 5 element sorted subarray\n",
    "4. Between the two 5 element subarray, which after comparison forms the full sorted array. "
   ]
  },
  {
   "cell_type": "markdown",
   "metadata": {},
   "source": [
    "<img src=\"media/mergeSortGif.gif\" width=\"500px\" align=\"left\">"
   ]
  },
  {
   "cell_type": "code",
   "execution_count": 3,
   "metadata": {
    "ExecuteTime": {
     "end_time": "2021-10-05T03:14:25.862708Z",
     "start_time": "2021-10-05T03:14:25.845701Z"
    }
   },
   "outputs": [
    {
     "data": {
      "text/plain": [
       "[3, 4, 5, 9, 12, 15, 20, 30, 39, 45]"
      ]
     },
     "execution_count": 3,
     "metadata": {},
     "output_type": "execute_result"
    }
   ],
   "source": [
    "unsorted = [45,12,4,15,20,3]\n",
    "unsortedLong = [45,12,4,15,20,3,39,5,9,30]\n",
    "\n",
    "def mergeSort(Array):\n",
    "    if len(Array) > 1: # remember that it is >1, because the minimum length size is 2 in order to do swapping.\n",
    "        # recursive splitting into small groups. the if statement above is important.\n",
    "        mid = len(Array) // 2\n",
    "        left = mergeSort(Array[:mid])\n",
    "        right = mergeSort(Array[mid:])\n",
    "        \n",
    "       # here is the comparison\n",
    "        Array = []\n",
    "        while len(left) > 0 and len(right) > 0:\n",
    "            if left[0] < right[0]:\n",
    "                Array.append(left.pop(0))\n",
    "            else:\n",
    "                Array.append(right.pop(0))\n",
    "        \n",
    "        # this is in the case where either left or right is empty already, \n",
    "        # since the other side is sorted and more than Array, we can just dump it as such.\n",
    "        Array += left + right\n",
    "    return Array\n",
    "\n",
    "mergeSort(unsortedLong)"
   ]
  },
  {
   "cell_type": "markdown",
   "metadata": {},
   "source": [
    "## QuickSort"
   ]
  },
  {
   "cell_type": "markdown",
   "metadata": {},
   "source": [
    "<img src=\"media/quickSortGif.gif\" width=\"600px\" align=\"left\">"
   ]
  },
  {
   "cell_type": "code",
   "execution_count": 4,
   "metadata": {
    "ExecuteTime": {
     "end_time": "2021-10-05T03:14:27.080058Z",
     "start_time": "2021-10-05T03:14:27.063060Z"
    }
   },
   "outputs": [
    {
     "name": "stdout",
     "output_type": "stream",
     "text": [
      "[3, 4, 5, 9, 12, 15, 20, 30, 39, 45]\n"
     ]
    }
   ],
   "source": [
    "# unsorted = [45,12,4,15,20,3]\n",
    "unsorted = [45,12,4,15,20,3,39,5,9,30]\n",
    "\n",
    "def split(Array, low, high):\n",
    "    middle = (low + high) // 2\n",
    "    pivot = Array[middle]\n",
    "    \n",
    "    left = low + 1\n",
    "    right = high\n",
    "    \n",
    "    # swapping to set the pivot on the left\n",
    "    Array[low], Array[middle] = Array[middle], Array[low] \n",
    "    \n",
    "    while left <= right:\n",
    "        # because i want left to be more than right, and i\n",
    "        # want  the left pointer to be <= right pointer\n",
    "        while  left <= right and Array[left] <= pivot: # the <= IS CRUCIALL\n",
    "            left += 1    \n",
    "        while Array[right] > pivot: # bc i want the right to be a value < pivot\n",
    "            right -= 1\n",
    "        if left < right:\n",
    "            Array[left], Array[right] = Array[right], Array[left]\n",
    "    \n",
    "    Array[low], Array[right] = Array[right], Array[low] # the swap back\n",
    "    \n",
    "    return right\n",
    "\n",
    "def quickSort(Array, low, high):\n",
    "    if low < high: # i keep forgetting this\n",
    "        pivot = split(Array, low, high)\n",
    "        quickSort(Array, low, pivot -1)\n",
    "        quickSort(Array, pivot + 1, high)\n",
    "        # notice how pivot is not included, because it is 'locked in'\n",
    "        \n",
    "quickSort(unsorted, 0, len(unsorted) -1)\n",
    "print(unsorted)"
   ]
  }
 ],
 "metadata": {
  "interpreter": {
   "hash": "1dd617a5988bcaa54672a91eb3971f0ca666e7ecabec86dd1533bd53f184404c"
  },
  "kernelspec": {
   "display_name": "Python 3",
   "language": "python",
   "name": "python3"
  },
  "language_info": {
   "codemirror_mode": {
    "name": "ipython",
    "version": 3
   },
   "file_extension": ".py",
   "mimetype": "text/x-python",
   "name": "python",
   "nbconvert_exporter": "python",
   "pygments_lexer": "ipython3",
   "version": "3.9.1"
  },
  "toc": {
   "base_numbering": 1,
   "nav_menu": {},
   "number_sections": true,
   "sideBar": true,
   "skip_h1_title": false,
   "title_cell": "Table of Contents",
   "title_sidebar": "Contents",
   "toc_cell": false,
   "toc_position": {},
   "toc_section_display": true,
   "toc_window_display": false
  }
 },
 "nbformat": 4,
 "nbformat_minor": 2
}
