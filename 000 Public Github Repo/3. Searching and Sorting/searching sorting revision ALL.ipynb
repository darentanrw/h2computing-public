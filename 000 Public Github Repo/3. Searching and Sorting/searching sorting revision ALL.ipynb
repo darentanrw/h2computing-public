{
 "metadata": {
  "language_info": {
   "codemirror_mode": {
    "name": "ipython",
    "version": 3
   },
   "file_extension": ".py",
   "mimetype": "text/x-python",
   "name": "python",
   "nbconvert_exporter": "python",
   "pygments_lexer": "ipython3",
   "version": "3.9.1-final"
  },
  "orig_nbformat": 2,
  "kernelspec": {
   "name": "python3",
   "display_name": "Python 3.9.1 64-bit",
   "metadata": {
    "interpreter": {
     "hash": "1dd617a5988bcaa54672a91eb3971f0ca666e7ecabec86dd1533bd53f184404c"
    }
   }
  }
 },
 "nbformat": 4,
 "nbformat_minor": 2,
 "cells": [
  {
   "source": [
    "## Searching"
   ],
   "cell_type": "markdown",
   "metadata": {}
  },
  {
   "cell_type": "code",
   "execution_count": 9,
   "metadata": {},
   "outputs": [
    {
     "output_type": "execute_result",
     "data": {
      "text/plain": [
       "32"
      ]
     },
     "metadata": {},
     "execution_count": 9
    }
   ],
   "source": [
    "numbers = [1,2,4,21,32,40]\n",
    "search = 32\n",
    "count = 0\n",
    "\n",
    "def linearsearch(numbers, search, count):\n",
    "    for i in numbers:\n",
    "        if search == i:\n",
    "            return(search)\n",
    "        else:\n",
    "            count += 1\n",
    "        if count == len(numbers):\n",
    "            return -1\n",
    "\n",
    "linearsearch(numbers, search, count)"
   ]
  },
  {
   "cell_type": "code",
   "execution_count": null,
   "metadata": {},
   "outputs": [],
   "source": [
    "def binarySearch(num, array):\n",
    "    "
   ]
  }
 ]
}