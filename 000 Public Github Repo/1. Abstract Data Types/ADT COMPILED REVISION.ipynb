{
 "metadata": {
  "language_info": {
   "codemirror_mode": {
    "name": "ipython",
    "version": 3
   },
   "file_extension": ".py",
   "mimetype": "text/x-python",
   "name": "python",
   "nbconvert_exporter": "python",
   "pygments_lexer": "ipython3",
   "version": "3.9.1"
  },
  "orig_nbformat": 2,
  "kernelspec": {
   "name": "python3",
   "display_name": "Python 3.9.1 64-bit",
   "metadata": {
    "interpreter": {
     "hash": "cd5945f773395593e7a252257491a5d920b5ea1a8e6da82c705478876e589dcd"
    }
   }
  }
 },
 "nbformat": 4,
 "nbformat_minor": 2,
 "cells": [
  {
   "source": [
    "# LINKED LIST AND NODE"
   ],
   "cell_type": "markdown",
   "metadata": {}
  },
  {
   "source": [
    "## Creating Nodes"
   ],
   "cell_type": "markdown",
   "metadata": {}
  },
  {
   "cell_type": "code",
   "execution_count": 114,
   "metadata": {},
   "outputs": [],
   "source": [
    "class Node:\n",
    "    def __init__(self, data, next= None):\n",
    "        self.data = data\n",
    "        self.next = next\n",
    "\n",
    "    def __str__(self):\n",
    "        state = f\"Node: {self.data}\"\n",
    "        if self.next:\n",
    "            state += f\", Next: {self.next.data}\"\n",
    "        else:\n",
    "            state += \", Next: None\"\n",
    "        return(state)"
   ]
  },
  {
   "source": [
    "### How Nodes are related to Linked Lists\n",
    "\n",
    "Nodes show the current data and next data.\n",
    "When being used in a linked list, the newest node is on the left, oldest on the right.\n",
    "\n",
    "When using the code: \n",
    "```\n",
    "x = Node(1)\n",
    "x = Node(2, x)\n",
    "x = Node(3, x)\n",
    "```\n",
    "\n",
    "This creates a linked list that is like:\n",
    "3 -> 2 -> 1 -> None\n",
    "\n",
    "Hence, when removing first, we are removing 3. \n",
    "\n",
    "Removing last, we remove 1. Node 2 now points to None."
   ],
   "cell_type": "markdown",
   "metadata": {}
  },
  {
   "source": [
    "## Linked List Code"
   ],
   "cell_type": "markdown",
   "metadata": {}
  },
  {
   "cell_type": "code",
   "execution_count": 113,
   "metadata": {},
   "outputs": [
    {
     "output_type": "stream",
     "name": "stdout",
     "text": [
      "DEFAULT\nNode: 4, Next: 3\nNode: 3, Next: 2\nNode: 2, Next: 1\nNode: 1, Next: 0\nNode: 0, Next: None\n\nINSERT START\nNode: hi, Next: 4\nNode: 4, Next: 3\nNode: 3, Next: 2\nNode: 2, Next: 1\nNode: 1, Next: 0\nNode: 0, Next: None\n\nINSERT END\nNode: hi, Next: 4\nNode: 4, Next: 3\nNode: 3, Next: 2\nNode: 2, Next: 1\nNode: 1, Next: 0\nNode: 0, Next: bye\nNode: bye, Next: None\n\nINSERT ANY\nNode: hi, Next: 4\nNode: 4, Next: 3\nNode: 3, Next: test\nNode: test, Next: 2\nNode: 2, Next: 1\nNode: 1, Next: 0\nNode: 0, Next: bye\nNode: bye, Next: None\n\nREMOVE START\nNode: 4, Next: 3\nNode: 3, Next: test\nNode: test, Next: 2\nNode: 2, Next: 1\nNode: 1, Next: 0\nNode: 0, Next: bye\nNode: bye, Next: None\n\nREMOVE END\nNode: 4, Next: 3\nNode: 3, Next: test\nNode: test, Next: 2\nNode: 2, Next: 1\nNode: 1, Next: 0\nNode: 0, Next: None\n\nREMOVE ANY\nNode: 4, Next: 3\nNode: 3, Next: 2\nNode: 2, Next: 1\nNode: 1, Next: 0\nNode: 0, Next: None\n\nFound, index 0\n"
     ]
    }
   ],
   "source": [
    "class LinkedList():\n",
    "    def __init__(self):\n",
    "        self.head = None\n",
    "\n",
    "    def create(self):\n",
    "        for i in range(5):\n",
    "            self.head = Node(str(i), self.head)\n",
    "            # this creates a linked list of 4 -> 3 -> 2 -> 1 -> 0 -> None\n",
    "\n",
    "    def __str__(self):\n",
    "        probe = self.head\n",
    "        string = \"\"\n",
    "        while probe != None:\n",
    "            string += probe.__str__() + '\\n'\n",
    "            probe = probe.next\n",
    "        return(string)\n",
    "    \n",
    "    def insertStart(self, insert):\n",
    "        self.head = Node(insert, self.head)\n",
    "\n",
    "    def insertEnd(self, insertEnd):\n",
    "        probe = self.head\n",
    "        while probe.next != None:\n",
    "            probe = probe.next\n",
    "        probe.next = Node(insertEnd)\n",
    "\n",
    "    def insertAny(self, insertData, index):\n",
    "        probe = self.head\n",
    "        if index == 0:\n",
    "            self.head = Node(insertData, probe)\n",
    "        else:\n",
    "            for i in range(index-1):\n",
    "                probe = probe.next\n",
    "            probe.next = Node(insertData, probe.next)\n",
    "\n",
    "    def find(self, data):\n",
    "        probe = self.head\n",
    "        num = 0\n",
    "        while probe != None:\n",
    "            if probe.data == data:\n",
    "                return(f'Found, index {num}')\n",
    "            probe = probe.next\n",
    "            num += 1\n",
    "        return('Not found')\n",
    "\n",
    "    def removeStart(self):\n",
    "        self.head = self.head.next\n",
    "\n",
    "    def removeEnd(self):\n",
    "        probe = self.head\n",
    "        while probe.next.next != None:\n",
    "            probe = probe.next\n",
    "        probe.next = None\n",
    "\n",
    "    def removeAny(self, index):\n",
    "        if index == 0:\n",
    "            self.head = self.head.next\n",
    "        else:\n",
    "            probe = self.head\n",
    "            for i in range(index -1):\n",
    "                probe = probe.next \n",
    "            probe.next = probe.next.next\n",
    "\n",
    "x = LinkedList()\n",
    "x.create()\n",
    "print('DEFAULT')\n",
    "print(x)\n",
    "print('INSERT START')\n",
    "x.insertStart('hi')\n",
    "print(x)\n",
    "print('INSERT END')\n",
    "x.insertEnd('bye')\n",
    "print(x)\n",
    "print('INSERT ANY')\n",
    "x.insertAny('test',3)\n",
    "print(x)\n",
    "\n",
    "print('REMOVE START')\n",
    "x.removeStart()\n",
    "print(x)\n",
    "print('REMOVE END')\n",
    "x.removeEnd()\n",
    "print(x)\n",
    "print('REMOVE ANY')\n",
    "x.removeAny(2)\n",
    "print(x)\n",
    "\n",
    "print(x.find('4'))\n",
    "\n",
    "# take note: i am taking the first index in the linked list to be 0. "
   ]
  },
  {
   "source": [
    "# Stack ADT\n",
    "\n",
    "Stack is a LAST IN FIRST OUT (LIFO) Data Structure. Imagine that they are layers.\n",
    "\n",
    "```\n",
    "--- top ---\n",
    "A\n",
    "B\n",
    "C\n",
    "--- bottom ---\n",
    "```\n",
    "HENCE - this means that items POPPED are popped from the top. Items PUSHED are also pushed onto the top.\n",
    "\n",
    "If you need an analogy: think about the undo function of your keyboard. It undoes starting from the last thing you did. (LIFO)"
   ],
   "cell_type": "markdown",
   "metadata": {}
  },
  {
   "cell_type": "code",
   "execution_count": 154,
   "metadata": {},
   "outputs": [],
   "source": [
    "class LinkedStack():\n",
    "    def __init__(self):\n",
    "        self.top = None\n",
    "        self.size = 0\n",
    "    \n",
    "    def __len__(self):\n",
    "        return self.size\n",
    "\n",
    "    def isEmpty(self):\n",
    "        return(len(self) == 0)\n",
    "    \n",
    "    def __str__(self):\n",
    "        probe = self.top\n",
    "        string = ''\n",
    "        while probe != None:\n",
    "            string = f\"{probe.data} {string}\"\n",
    "            # i am defining that the left of the string is bottom            \n",
    "            probe = probe.next\n",
    "        return(string)        \n",
    "\n",
    "    def push(self, item):\n",
    "        self.top = Node(item, self.top)\n",
    "        self.size += 1\n",
    "\n",
    "    def pop(self):\n",
    "        if self.isEmpty():\n",
    "            return 'Is Empty'\n",
    "        else:\n",
    "            removed = self.top.data\n",
    "            self.top = self.top.next\n",
    "            self.size -= 1\n",
    "            return(f\"Removed {removed}\")\n",
    "    \n",
    "    def peek(self):\n",
    "        if self.isEmpty():\n",
    "            return 'Is Empty'\n",
    "        else:        \n",
    "            return self.top.data"
   ]
  },
  {
   "cell_type": "code",
   "execution_count": 168,
   "metadata": {},
   "outputs": [
    {
     "output_type": "stream",
     "name": "stdout",
     "text": [
      "DEFAULT: (left is bottom, right is top)\n1 2 3 \n\nPOP:\nRemoved 3\n\nPEEK:\n2\n\nFULL:\n1 2 \n"
     ]
    }
   ],
   "source": [
    "x = LinkedStack()\n",
    "x.push('1')\n",
    "x.push('2')\n",
    "x.push('3')\n",
    "\n",
    "print(\"DEFAULT: (left is bottom, right is top)\")\n",
    "print(x)\n",
    "print('\\nPOP:')\n",
    "print(x.pop())\n",
    "print('\\nPEEK:')\n",
    "print(x.peek())\n",
    "print('\\nFULL:')\n",
    "print(x)"
   ]
  },
  {
   "source": [
    "# QUEUE ADT\n",
    "Queue is a FIRST IN FIRST OUT (FIFO) Data Structure. Literally it is like real world queueing. The first data (person) inserted into queue is the first data (person) out."
   ],
   "cell_type": "markdown",
   "metadata": {}
  },
  {
   "cell_type": "code",
   "execution_count": 201,
   "metadata": {},
   "outputs": [],
   "source": [
    "class LinkedQueue():\n",
    "    def __init__(self):\n",
    "        self.front = None\n",
    "        self.rear = None\n",
    "        self.size = 0 \n",
    "\n",
    "    def __str__(self):\n",
    "        probe = self.front\n",
    "        string = ''\n",
    "        while probe != None:\n",
    "            string += f\"{probe.data} \"\n",
    "            probe = probe.next\n",
    "        return(string)\n",
    "\n",
    "    def __len__(self):\n",
    "        return self.size\n",
    "\n",
    "    def isEmpty(self):\n",
    "        return len(self) == 0\n",
    "\n",
    "    def enqueue(self, data):\n",
    "        newNode = Node(data)\n",
    "        if self.isEmpty():\n",
    "            self.front = newNode\n",
    "        else:\n",
    "            self.rear.next = newNode\n",
    "        self.rear = newNode\n",
    "        self.size += 1\n",
    "\n",
    "    def dequeue(self):\n",
    "        if self.isEmpty():\n",
    "            return 'Queue is emepty'\n",
    "        else:\n",
    "            old = self.front.data\n",
    "            self.front = self.front.next\n",
    "            if self.front is None:\n",
    "                self.rear = None\n",
    "            self.size -= 1\n",
    "            return old"
   ]
  },
  {
   "cell_type": "code",
   "execution_count": 207,
   "metadata": {},
   "outputs": [
    {
     "output_type": "stream",
     "name": "stdout",
     "text": [
      "FULL\nfront 2 3 rear \n\nDEQUEUE 1\nfront\n\nUPDATED\n2 3 rear \n"
     ]
    }
   ],
   "source": [
    "x = LinkedQueue()\n",
    "x.enqueue('front')\n",
    "x.enqueue('2')\n",
    "x.enqueue('3')\n",
    "x.enqueue('rear')\n",
    "\n",
    "print('FULL')\n",
    "print(x)\n",
    "\n",
    "print('\\nDEQUEUE 1')\n",
    "print(x.dequeue())\n",
    "\n",
    "print('\\nUPDATED')\n",
    "print(x)"
   ]
  }
 ]
}