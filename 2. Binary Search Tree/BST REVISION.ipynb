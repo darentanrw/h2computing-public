{
 "metadata": {
  "language_info": {
   "codemirror_mode": {
    "name": "ipython",
    "version": 3
   },
   "file_extension": ".py",
   "mimetype": "text/x-python",
   "name": "python",
   "nbconvert_exporter": "python",
   "pygments_lexer": "ipython3",
   "version": "3.9.1"
  },
  "orig_nbformat": 2,
  "kernelspec": {
   "name": "python3",
   "display_name": "Python 3.9.1 64-bit"
  },
  "interpreter": {
   "hash": "1dd617a5988bcaa54672a91eb3971f0ca666e7ecabec86dd1533bd53f184404c"
  }
 },
 "nbformat": 4,
 "nbformat_minor": 2,
 "cells": [
  {
   "cell_type": "code",
   "execution_count": 6,
   "metadata": {},
   "outputs": [],
   "source": [
    "class Node:\n",
    "    def __init__(self, data, left=None, right=None):\n",
    "        self.data = data\n",
    "        self.left = left\n",
    "        self.right = right\n",
    "\n",
    "    def __str__(self):\n",
    "        string = f\"Node({self.data}, \"\n",
    "        if self.left:\n",
    "            string += f\"{self.left.data}, \"\n",
    "        else:\n",
    "            string += f\"{self.left}, \"\n",
    "\n",
    "        if self.right:\n",
    "            string += f\"{self.right.data})\"\n",
    "        else:\n",
    "            string += f\"{self.right})\"\n",
    "\n",
    "        return string"
   ]
  },
  {
   "cell_type": "code",
   "execution_count": 8,
   "metadata": {},
   "outputs": [
    {
     "output_type": "stream",
     "name": "stdout",
     "text": [
      "Node(10, 5, 15)\nNode(5, None, None)\nNode(Node(10, 5, 15), 1, 3)\n"
     ]
    }
   ],
   "source": [
    "l = Node(5)\n",
    "r = Node(15)\n",
    "n1 = Node(10, l, r)\n",
    "\n",
    "l2 = Node(1)\n",
    "r2 = Node(3)\n",
    "n2 = Node(n1, l2, r2)\n",
    "print(n1)\n",
    "print(n1.left)\n",
    "\n",
    "print(n2)"
   ]
  },
  {
   "cell_type": "code",
   "execution_count": 71,
   "metadata": {},
   "outputs": [],
   "source": [
    "class BinarySearchTree():\n",
    "    def __init__(self):\n",
    "        self.root = None\n",
    "\n",
    "    def add(self, data):\n",
    "        if self.root is None:\n",
    "            self.root = Node(data)\n",
    "        else:\n",
    "            self.add2(self.root, data)\n",
    "    \n",
    "    def add2(self, root, data):\n",
    "        if data < root.data:\n",
    "            if root.left is None:\n",
    "                root.left = Node(data)\n",
    "            else:\n",
    "                self.add2(root.left, data) \n",
    "                # this starts the recursion. it tries to go one level deeper and find a suitable location where the node is empty. \n",
    "        else:\n",
    "            if root.right is None:\n",
    "                root.right = Node(data)\n",
    "            else:\n",
    "                self.add2(root.right, data)\n",
    "\n",
    "    def inorder(self, root):\n",
    "        if root != None:\n",
    "            self.inorder(root.left)\n",
    "            print(root.data)\n",
    "            self.inorder(root.right)\n",
    "\n",
    "    def preorder(self, root):\n",
    "        if root != None:\n",
    "            print(root.data)\n",
    "            self.preorder(root.left)\n",
    "            self.preorder(root.right)\n",
    "\n",
    "    def postorder(self, root):\n",
    "        if root != None:\n",
    "            self.postorder(root.left)\n",
    "            self.postorder(root.right)\n",
    "            print(root.data)\n",
    "    \n",
    "    def reverseInOrder(self,root):\n",
    "        if root != None:\n",
    "            self.postorder(root.right)\n",
    "            print(root.data)\n",
    "            self.postorder(root.left)\n",
    "\n",
    "    def find(self, item, tree):\n",
    "        if tree == None:\n",
    "            return False\n",
    "        elif item < tree.data:\n",
    "            return self.find(item, tree.left)\n",
    "        elif item > tree.data:\n",
    "            return self.find(item, tree.right)\n",
    "        else:\n",
    "            return tree\n",
    "        \n",
    "    def count(self, tree):\n",
    "        if tree == None:\n",
    "            return 0\n",
    "        else:\n",
    "            return self.count(tree.left) + self.count(tree.right) + 1"
   ]
  },
  {
   "cell_type": "code",
   "execution_count": 72,
   "metadata": {},
   "outputs": [
    {
     "output_type": "stream",
     "name": "stdout",
     "text": [
      "Root: Node(5, 2, 10)\n\nIn order:\n1\n2\n5\n10\n15\n\nCount: 5\nFind '0' results: False\n\nAdded 13 print in order:\n1\n2\n5\n10\n13\n15\n\nPostorder:\n1\n2\n13\n15\n10\n5\n\nReverse In Order:\n5\n2\n1\n10\n15\n13\n"
     ]
    }
   ],
   "source": [
    "t = BinarySearchTree()\n",
    "t.add(5)\n",
    "t.add(10)\n",
    "t.add(2)\n",
    "t.add(1)\n",
    "t.add(15)\n",
    "\n",
    "print(\"Root:\", t.root)\n",
    "print(\"\\nIn order:\")\n",
    "t.inorder(t.root)\n",
    "\n",
    "print(f\"\\nCount: {t.count(t.root)}\")\n",
    "node = t.find(0, t.root)\n",
    "print(f\"Find '0' results: {node}\")\n",
    "\n",
    "t.add(13)\n",
    "print('\\nAdded 13 print in order:')\n",
    "t.inorder(t.root)\n",
    "\n",
    "print('\\nPostorder:')\n",
    "t.postorder(t.root)\n",
    "\n",
    "print('\\nReverse In Order:')\n",
    "t.preorder(t.root)"
   ]
  }
 ]
}