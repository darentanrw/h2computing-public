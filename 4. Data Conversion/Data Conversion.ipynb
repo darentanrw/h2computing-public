{
 "cells": [
  {
   "cell_type": "code",
   "execution_count": 12,
   "metadata": {},
   "outputs": [
    {
     "output_type": "stream",
     "name": "stdout",
     "text": "13\n"
    }
   ],
   "source": [
    "def binaryToDecimal():\n",
    "    binary = input(\"Enter a binary number\")\n",
    "    count = len(binary) -1\n",
    "    num = 0\n",
    "    for i in binary:\n",
    "        num = num + int(i) * (2 ** count)\n",
    "        count = count - 1\n",
    "    print(num)\n",
    "\n",
    "binaryToDecimal()"
   ]
  },
  {
   "cell_type": "code",
   "execution_count": 26,
   "metadata": {},
   "outputs": [
    {
     "output_type": "stream",
     "name": "stdout",
     "text": "1111001\n"
    }
   ],
   "source": [
    "def decimalToHexa():\n",
    "    decimal = int(input(\"Enter a decimal number\"))\n",
    "    binary = ''\n",
    "    num = decimal // 2\n",
    "    while num != 0:\n",
    "        num = decimal // 2\n",
    "        remainder = decimal % 2\n",
    "        binary += str(remainder)\n",
    "        decimal = num \n",
    "    binary = binary[::-1]\n",
    "    \n",
    "    length = len(binary)\n",
    "    \n",
    "decimalToHexa()"
   ]
  },
  {
   "cell_type": "code",
   "execution_count": 4,
   "metadata": {},
   "outputs": [
    {
     "output_type": "stream",
     "name": "stdout",
     "text": "111 1001 \n"
    }
   ],
   "source": [
    "def decToHex(value):\n",
    "    binary = \"\"\n",
    "    while value != 0:\n",
    "        remainder = value % 2\n",
    "        binary = str(remainder) + binary\n",
    "        value = value // 2\n",
    "    return(binary)\n",
    "\n",
    "def hexToBinary():\n",
    "    hexValues = ['A','B','C','D','E','F']\n",
    "    value = input(\"Enter a hexadecimal value: \")\n",
    "    result = \"\"\n",
    "    for i in value:\n",
    "        if i.upper() in hexValues:\n",
    "            index = hexValues.index(i.upper())\n",
    "            result = result + decToHex(index+10) + ' '\n",
    "        else:\n",
    "            result = result + decToHex(int(i)) + ' '\n",
    "    print(result)\n",
    "\n",
    "hexToBinary()"
   ]
  },
  {
   "cell_type": "code",
   "execution_count": 1,
   "metadata": {},
   "outputs": [],
   "source": [
    "weights = [2,7,6,5,4,3,2]\n",
    "checkdigit = ['A','B','C','D','E','F','G','H','I','Z','J']\n",
    "nric = input(\"Enter the digits of your NRIC number\")\n",
    "if len(nric) == 7:\n",
    "    count = 0\n",
    "    sum = 0\n",
    "    for i in nric:\n",
    "        number = int(i)\n",
    "        sum = sum + number * weights[count]\n",
    "        count += 1\n",
    "    remainder = sum % 11\n",
    "    check = 11 - remainder \n",
    "    print(checkdigit[check-1])"
   ]
  }
 ],
 "metadata": {
  "language_info": {
   "codemirror_mode": {
    "name": "ipython",
    "version": 3
   },
   "file_extension": ".py",
   "mimetype": "text/x-python",
   "name": "python",
   "nbconvert_exporter": "python",
   "pygments_lexer": "ipython3",
   "version": "3.9.1"
  },
  "orig_nbformat": 2,
  "kernelspec": {
   "name": "python3",
   "display_name": "Python 3.9.1 64-bit",
   "metadata": {
    "interpreter": {
     "hash": "cd5945f773395593e7a252257491a5d920b5ea1a8e6da82c705478876e589dcd"
    }
   }
  }
 },
 "nbformat": 4,
 "nbformat_minor": 2
}