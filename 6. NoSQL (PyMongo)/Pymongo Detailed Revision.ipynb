{
 "cells": [
  {
   "source": [
    "## 1. Accessing MongoDB Database and printing database names"
   ],
   "cell_type": "markdown",
   "metadata": {}
  },
  {
   "cell_type": "code",
   "execution_count": 5,
   "metadata": {},
   "outputs": [
    {
     "output_type": "stream",
     "name": "stdout",
     "text": [
      "admin\nbooksdb\nhrdb\nlang\nlibrary\nlocal\nmovieDB\nmydatabase\nrestdb\ntest\ntest_info\n"
     ]
    }
   ],
   "source": [
    "from pymongo import MongoClient\n",
    "client = MongoClient(\"localhost\",  27017)\n",
    "\n",
    "dbs = client.list_database_names()\n",
    "for d in dbs:\n",
    "    print(d)\n",
    "client.close()"
   ]
  },
  {
   "source": [
    "## 2. Printing collections from within the database"
   ],
   "cell_type": "markdown",
   "metadata": {}
  },
  {
   "cell_type": "code",
   "execution_count": 42,
   "metadata": {},
   "outputs": [
    {
     "output_type": "execute_result",
     "data": {
      "text/plain": [
       "['fruits', 'fruit', 'student', 'person']"
      ]
     },
     "metadata": {},
     "execution_count": 42
    }
   ],
   "source": [
    "from pymongo import MongoClient\n",
    "client = MongoClient('localhost', 27017)\n",
    "\n",
    "db = client['test_info']\n",
    "coll = db['fruit']\n",
    "\n",
    "db.list_collection_names()"
   ]
  },
  {
   "source": [
    "## 3. Inserting Data"
   ],
   "cell_type": "markdown",
   "metadata": {}
  },
  {
   "cell_type": "code",
   "execution_count": 50,
   "metadata": {},
   "outputs": [
    {
     "output_type": "stream",
     "name": "stdout",
     "text": [
      "60c8862dde6aad62ca0cb589\n"
     ]
    },
    {
     "output_type": "execute_result",
     "data": {
      "text/plain": [
       "<pymongo.results.InsertManyResult at 0x18357011900>"
      ]
     },
     "metadata": {},
     "execution_count": 50
    }
   ],
   "source": [
    "from pymongo import MongoClient\n",
    "client = MongoClient('localhost', 27017)\n",
    "\n",
    "db = client['test_info']\n",
    "coll = db['fruit']\n",
    "\n",
    "result = coll.insert_one({'name':'applebananatogether','qty':100})\n",
    "# insert_one requires to be in the form of a dictionary\n",
    "print(result.inserted_id)\n",
    "# this checks if it has been inserted (honestly i dont think this is very useful)\n",
    "\n",
    "coll.insert_many([\n",
    "    {'name':'banana', 'qty':100},\n",
    "    {'name':'grape', 'qty':10, 'country':'SG'},\n",
    "    {'name':'grapefruit', 'qty':1},\n",
    "    {'name':'watermelon', 'qty':31, 'address':{'state':'singapore', 'postal':551221, 'coords':(1.3042,103.8392)}},\n",
    "])"
   ]
  },
  {
   "source": [
    "## 4. Data Querying"
   ],
   "cell_type": "markdown",
   "metadata": {}
  },
  {
   "cell_type": "code",
   "execution_count": 100,
   "metadata": {},
   "outputs": [],
   "source": [
    "# list of queries\n",
    "queries = {\n",
    "'all' : {},\n",
    "'string_regex' : {'name':{'$regex':\"apple\"}}, #results such as \"applebananatogether\" would be returned.\n",
    "'query2' : {'name':\"apple\"}, # only results matching 'apple' as whole word would be displayed\n",
    "\n",
    "'name_in' : {'name':{'$in':[\"apple\", \"banana\"]}},\n",
    "'name_notin' : {'name':{'$nin':[\"apple\", \"banana\"]}},\n",
    "\n",
    "'country_exist' : {'country':{'$exists':True}},\n",
    "\n",
    "'qty_eq' : {'qty':{'$eq':100}},\n",
    "'qty_noteq' : {'qty':{'$ne':100}},\n",
    "'qty_gte' : {'qty':{'$gte':100}},\n",
    "# other commands : $gt, $lt, $lte,\n",
    "\n",
    "## MORE COMPLEX QUERIES:\n",
    "# e.g when data is: {'name': 'watermelon', 'qty': 31, 'address': {'state': 'singapore', 'postal': '551221', 'coords': [1.3042, 103.8392]}}\n",
    "\n",
    "'dict_within_dict' : {'address.state':'singapore'},\n",
    "'list_within_dict_and_dict' : {'address.coords.0':1.3042}}"
   ]
  },
  {
   "source": [
    "### Queries tester:<br>\n",
    "there really should have been an easier way to do this"
   ],
   "cell_type": "markdown",
   "metadata": {}
  },
  {
   "cell_type": "code",
   "execution_count": 138,
   "metadata": {},
   "outputs": [
    {
     "output_type": "stream",
     "name": "stdout",
     "text": [
      "search: all\n{'name': 'apple', 'qty': 10.0}\n{'name': 'orange', 'qty': 20.0}\n{'name': 'pear', 'qty': 15.0}\n{'name': 'durian', 'qty': 5.0}\n{'name': 'lemon', 'qty': '10', 'country': 'SA'}\n{'name': 'lime', 'qty': '15', 'country': 'SG'}\n{'name': 'apple', 'qty': '40', 'country': 'SG'}\n{'name': 'apple', 'qty': '30', 'country': 'SA'}\n{'name': 'applebananatogether', 'qty': 100}\n{'name': 'applebananatogether', 'qty': 100}\n{'name': 'banana', 'qty': 100}\n{'name': 'grape', 'qty': 10, 'country': 'SG'}\n{'name': 'grapefruit', 'qty': 1}\n{'name': 'watermelon', 'qty': 31, 'address': {'state': 'singapore', 'postal': 551221, 'coords': [1.3042, 103.8392]}}\n\n"
     ]
    }
   ],
   "source": [
    "from pymongo import MongoClient\n",
    "client = MongoClient(\"localhost\", 27017)\n",
    "\n",
    "db = client['test_info']\n",
    "coll = db['fruit']\n",
    "\n",
    "optionString = \"01: all\\n02: string regex\\n03: string whole\\n04: in\\n05: not in\\n06: exists\\n07: equal\\n08: not equal\\n09: greater than equal\\n10: dict within dict \\n11: list within dict within dict\"\n",
    "indexedQueries = list(queries.keys())\n",
    "\n",
    "choice = '1'\n",
    "proj = {'_id':0}\n",
    "while choice != 'end':\n",
    "    if choice == 'option':\n",
    "        print(optionString, '\\n')\n",
    "    else:\n",
    "        index = int(choice)\n",
    "        index -= 1\n",
    "        print(f\"search: {indexedQueries[index]}\")\n",
    "        x = coll.find(queries[f\"{indexedQueries[index]}\"],proj)\n",
    "        for i in x: print(i)\n",
    "        print('')\n",
    "    choice = str(input('Choose option num: (end to kill, options to view)'))\n",
    "\n",
    "client.close()"
   ]
  },
  {
   "source": [
    "## 5. Updating Data (Set)"
   ],
   "cell_type": "markdown",
   "metadata": {}
  },
  {
   "cell_type": "code",
   "execution_count": 153,
   "metadata": {},
   "outputs": [
    {
     "output_type": "stream",
     "name": "stdout",
     "text": [
      "3\n1\n"
     ]
    }
   ],
   "source": [
    "from pymongo import MongoClient\n",
    "client = MongoClient('localhost', 27017)\n",
    "\n",
    "db = client['test_info']\n",
    "coll = db['fruit']\n",
    "\n",
    "query = {'name':'APPLE'}\n",
    "newvalue = {'$set':{'name':'apple'}}\n",
    "# take note: newvalue has a dict within dict, key of $set, key of inner dict is the var name.\n",
    "x = coll.update_many(query,newvalue)\n",
    "print(x.modified_count)\n",
    "\n",
    "\n",
    "# deleting data\n",
    "query = {'name':'banana'}\n",
    "query_all = {}\n",
    "# y = coll.delete_many(query_all) # deletes all \n",
    "# y = coll.delete_one\n",
    "y = coll.delete_many(query)\n",
    "print(y.deleted_count)\n",
    "\n",
    "client.close()"
   ]
  },
  {
   "source": [
    "## 6. Sorting"
   ],
   "cell_type": "markdown",
   "metadata": {}
  },
  {
   "source": [
    "## 7. Misc:"
   ],
   "cell_type": "markdown",
   "metadata": {}
  },
  {
   "cell_type": "code",
   "execution_count": null,
   "metadata": {},
   "outputs": [],
   "source": [
    "# json imports (TBI)"
   ]
  },
  {
   "cell_type": "code",
   "execution_count": 54,
   "metadata": {},
   "outputs": [
    {
     "output_type": "stream",
     "name": "stdout",
     "text": [
      "['line1', '2', '3', '5', '76', '213']\n['A', 'B', 'C', 'D', 'E', 'F', 'G', 'H', 'I', 'J', 'K', 'L', 'M', 'N', 'O', 'P', 'Q', 'R', 'S', 'T', 'U', 'V', 'W', 'X', 'Y', 'Z']\n"
     ]
    }
   ],
   "source": [
    "# one-liner python scripts\n",
    "with open('test.txt', 'r') as file: lines = file.readlines()\n",
    "lines = [i.strip('\\n') for i in lines]\n",
    "print(lines)\n",
    "\n",
    "alphabets = [chr(i) for i in range(65,91)]\n",
    "print(alphabets)"
   ]
  }
 ],
 "metadata": {
  "kernelspec": {
   "name": "python3",
   "display_name": "Python 3.9.1 64-bit"
  },
  "language_info": {
   "codemirror_mode": {
    "name": "ipython",
    "version": 3
   },
   "file_extension": ".py",
   "mimetype": "text/x-python",
   "name": "python",
   "nbconvert_exporter": "python",
   "pygments_lexer": "ipython3",
   "version": "3.9.1"
  },
  "interpreter": {
   "hash": "1dd617a5988bcaa54672a91eb3971f0ca666e7ecabec86dd1533bd53f184404c"
  }
 },
 "nbformat": 4,
 "nbformat_minor": 2
}