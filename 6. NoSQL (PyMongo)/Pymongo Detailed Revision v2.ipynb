{
 "cells": [
  {
   "source": [
    "## 1. Accessing MongoDB Database and printing database names"
   ],
   "cell_type": "markdown",
   "metadata": {}
  },
  {
   "cell_type": "code",
   "execution_count": 2,
   "metadata": {},
   "outputs": [
    {
     "output_type": "stream",
     "name": "stdout",
     "text": [
      "admin\nbooksdb\nhrdb\nlang\nlibrary\nlocal\nmovieDB\nmydatabase\nrestdb\ntest\ntest_info\n"
     ]
    }
   ],
   "source": [
    "from pymongo import MongoClient\n",
    "client = MongoClient('localhost', 27017)\n",
    "\n",
    "dbs = client.list_database_names()\n",
    "for i in dbs:\n",
    "    print(i)\n",
    "client.close()"
   ]
  },
  {
   "source": [
    "## 2. Printing collections from within the database"
   ],
   "cell_type": "markdown",
   "metadata": {}
  },
  {
   "cell_type": "code",
   "execution_count": 11,
   "metadata": {},
   "outputs": [
    {
     "output_type": "execute_result",
     "data": {
      "text/plain": [
       "['fruits', 'fruit', 'student', 'person']"
      ]
     },
     "metadata": {},
     "execution_count": 11
    }
   ],
   "source": [
    "from pymongo import MongoClient\n",
    "client = MongoClient('localhost', 27017)\n",
    "\n",
    "db = client['test_info']\n",
    "coll = db['fruit']\n",
    "\n",
    "db.list_collection_names()"
   ]
  },
  {
   "source": [
    "## 3. Inserting Data"
   ],
   "cell_type": "markdown",
   "metadata": {}
  },
  {
   "cell_type": "code",
   "execution_count": 19,
   "metadata": {},
   "outputs": [
    {
     "output_type": "stream",
     "name": "stdout",
     "text": [
      "60d8318b8258a00fb8f81173\n"
     ]
    }
   ],
   "source": [
    "from pymongo import MongoClient\n",
    "client = MongoClient('localhost', 27017)\n",
    "\n",
    "db = client['test_info']\n",
    "coll = db['fruit']\n",
    "\n",
    "result = coll.insert_one({'name': 'hello', 'qty':321})\n",
    "print(result.inserted_id)"
   ]
  },
  {
   "cell_type": "code",
   "execution_count": 64,
   "metadata": {},
   "outputs": [
    {
     "output_type": "stream",
     "name": "stdout",
     "text": [
      "[{'name': 'Tan Tan Tan', 'email': 'tttan@lotsofintern.com', 'designation': 'intern'}, {'name': 'Lee Lee Lee', 'email': 'lllee@lotsofintern.com', 'designation': 'intern'}, {'name': 'Ng Ng Ng', 'email': 'nnng@lotsofintern.com', 'designation': 'intern'}]\n<class 'list'>\n[ObjectId('60d84380ed88c99d19911db1'), ObjectId('60d84380ed88c99d19911db2'), ObjectId('60d84380ed88c99d19911db3')]\n"
     ]
    }
   ],
   "source": [
    "import json\n",
    "from pymongo import MongoClient\n",
    "\n",
    "myfile = open(r'Restaurants\\intern.json','r')\n",
    "\n",
    "fileLines= myfile.readlines()\n",
    "fileString = ''\n",
    "\n",
    "for i in fileLines:\n",
    "    i.strip('\\n')\n",
    "    i.strip('\\t')\n",
    "    fileString += i\n",
    "\n",
    "internDictionary = json.loads(fileString)\n",
    "internDictionary = internDictionary['intern_details']\n",
    "\n",
    "print(internDictionary)\n",
    "\n",
    "print(type(internDictionary))\n",
    "\n",
    "client = MongoClient('localhost', 27017)\n",
    "db = client['test_info']\n",
    "coll = db['person']\n",
    "x = coll.insert_many(internDictionary)\n",
    "print(x.inserted_ids)"
   ]
  },
  {
   "source": [
    "## 4. Data Querying"
   ],
   "cell_type": "markdown",
   "metadata": {}
  },
  {
   "cell_type": "code",
   "execution_count": 52,
   "metadata": {},
   "outputs": [
    {
     "output_type": "stream",
     "name": "stdout",
     "text": [
      "{'name': 'watermelon', 'qty': 31, 'address': {'state': 'singapore', 'postal': 551221, 'coords': [1.3042, 103.8392]}}\n"
     ]
    }
   ],
   "source": [
    "from pymongo import MongoClient\n",
    "client = MongoClient(\"localhost\", 27017)\n",
    "\n",
    "db = client['test_info']\n",
    "coll = db['fruit']\n",
    "\n",
    "query = {'name':{'$regex':'an'}, 'qty':{'$gte':20}}\n",
    "query = {'address.coords.0':1.3042}\n",
    "projection ={'_id':0}\n",
    "\n",
    "x = coll.find(query, projection)\n",
    "for i in x:\n",
    "    print(i)"
   ]
  },
  {
   "source": [
    "## 5. Updating Data (Set)"
   ],
   "cell_type": "markdown",
   "metadata": {}
  },
  {
   "cell_type": "code",
   "execution_count": 76,
   "metadata": {},
   "outputs": [
    {
     "output_type": "stream",
     "name": "stdout",
     "text": [
      "['fruits', 'fruit', 'student', 'person']\n2\n"
     ]
    }
   ],
   "source": [
    "from pymongo import MongoClient\n",
    "client = MongoClient('localhost',27017)\n",
    "\n",
    "db = client['test_info']\n",
    "print(db.list_collection_names())\n",
    "coll = db['fruits']\n",
    "\n",
    "query = {'name':'together'}\n",
    "proj = {'$set':{'name':'applebananatogether'}}\n",
    "\n",
    "x = coll.update_many(query, proj)\n",
    "print(x.modified_count)\n",
    "# for i in x:\n",
    "#     print(i)\n",
    "\n",
    "\n",
    "client.close()"
   ]
  },
  {
   "source": [
    "## 6. Sorting"
   ],
   "cell_type": "markdown",
   "metadata": {}
  },
  {
   "cell_type": "code",
   "execution_count": 98,
   "metadata": {},
   "outputs": [
    {
     "output_type": "stream",
     "name": "stdout",
     "text": [
      "{'name': 'watermelon', 'qty': 31}\n{'name': 'pear', 'qty': 15.0}\n{'name': 'orange', 'qty': 20.0}\n{'name': 'hello', 'qty': 321}\n{'name': 'hello', 'qty': 321}\n{'name': 'hello', 'qty': 321}\n{'name': 'grapefruit', 'qty': 1}\n{'name': 'durian', 'qty': 5.0}\n{'name': 'applebananatogether', 'qty': 100}\n{'name': 'applebananatogether', 'qty': 100}\n{'name': 'apple', 'qty': 10.0}\n"
     ]
    }
   ],
   "source": [
    "from pymongo import MongoClient\n",
    "client = MongoClient('localhost', 27017)\n",
    "\n",
    "db = client['test_info']\n",
    "coll = db['fruit']\n",
    "\n",
    "query = {'qty':{'$exists':True}, 'country':{'$exists':False}}\n",
    "proj = {'_id':0, 'address':0}\n",
    "\n",
    "x = coll.find(query, proj).sort('name',-1)\n",
    "# The negative 1 makes the sort sorted in reverse alphabetical\n",
    "for i in x:\n",
    "    print(i)"
   ]
  },
  {
   "cell_type": "code",
   "execution_count": 30,
   "metadata": {},
   "outputs": [
    {
     "output_type": "stream",
     "name": "stdout",
     "text": [
      "{'name': 'apple', 'qty': 10.0}\n{'name': 'durian', 'qty': 5.0}\n{'name': 'lemon', 'qty': '10', 'country': 'SA'}\n{'name': 'lime', 'qty': '15', 'country': 'SG'}\n{'name': 'apple', 'qty': '40', 'country': 'SG'}\n{'name': 'apple', 'qty': '30', 'country': 'SA'}\n{'name': 'grape', 'qty': 10, 'country': 'SG'}\n{'name': 'grapefruit', 'qty': 1}\n"
     ]
    }
   ],
   "source": [
    "from pymongo import MongoClient\n",
    "client = MongoClient('localhost', 27017)\n",
    "\n",
    "db = client['test_info']\n",
    "coll = db['fruit']\n",
    "\n",
    "#remember thisssssss\n",
    "query = {'$or':[{'name':'hello'}, {'name':'durian'}]}\n",
    "query = {'name':{'$in':['hello', 'orange']}}\n",
    "query = {'name':{'$in':['hello', 'orange']}}\n",
    "query = {\"qty\":{\"$not\":{\"$gt\":10}}}\n",
    "\n",
    "projection = {'_id':0}\n",
    "\n",
    "x = coll.find(query, projection)\n",
    "for i in x: \n",
    "    print(i)"
   ]
  },
  {
   "source": [
    "## 7. Misc:"
   ],
   "cell_type": "markdown",
   "metadata": {}
  },
  {
   "cell_type": "code",
   "execution_count": 54,
   "metadata": {},
   "outputs": [
    {
     "output_type": "stream",
     "name": "stdout",
     "text": [
      "['line1', '2', '3', '5', '76', '213']\n['A', 'B', 'C', 'D', 'E', 'F', 'G', 'H', 'I', 'J', 'K', 'L', 'M', 'N', 'O', 'P', 'Q', 'R', 'S', 'T', 'U', 'V', 'W', 'X', 'Y', 'Z']\n"
     ]
    }
   ],
   "source": [
    "# useful one-liner python scripts\n",
    "with open('test.txt', 'r') as file: lines = file.readlines()\n",
    "lines = [i.strip('\\n') for i in lines]\n",
    "print(lines)\n",
    "\n",
    "alphabets = [chr(i) for i in range(65,91)]\n",
    "print(alphabets)"
   ]
  }
 ],
 "metadata": {
  "kernelspec": {
   "name": "python3",
   "display_name": "Python 3.9.1 64-bit"
  },
  "language_info": {
   "codemirror_mode": {
    "name": "ipython",
    "version": 3
   },
   "file_extension": ".py",
   "mimetype": "text/x-python",
   "name": "python",
   "nbconvert_exporter": "python",
   "pygments_lexer": "ipython3",
   "version": "3.9.1"
  },
  "interpreter": {
   "hash": "1dd617a5988bcaa54672a91eb3971f0ca666e7ecabec86dd1533bd53f184404c"
  }
 },
 "nbformat": 4,
 "nbformat_minor": 2
}